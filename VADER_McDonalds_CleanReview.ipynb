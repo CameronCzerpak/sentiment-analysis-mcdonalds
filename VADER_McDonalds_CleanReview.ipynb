{
 "cells": [
  {
   "cell_type": "code",
   "execution_count": 1,
   "id": "144e15a5-35f9-4465-8291-3db8e4dea5e9",
   "metadata": {},
   "outputs": [],
   "source": [
    "import pandas as pd\n",
    "import numpy as np\n",
    "import matplotlib.pyplot as plt\n",
    "import seaborn as sns\n",
    "\n",
    "plt.style.use('ggplot')\n",
    "\n",
    "import nltk\n",
    "\n",
    "import warnings\n",
    "warnings.filterwarnings(\"ignore\")\n",
    "\n",
    "import re #for text manipulations\n",
    "from nltk.corpus import stopwords  #for creating stepword object\n",
    "from nltk.stem import SnowballStemmer  #text processing \n",
    "from nltk.stem import WordNetLemmatizer #text perocessing\n",
    "\n",
    "\n",
    "# VADER\n",
    "from nltk.sentiment import SentimentIntensityAnalyzer\n",
    "from tqdm.notebook import tqdm"
   ]
  },
  {
   "cell_type": "code",
   "execution_count": 2,
   "id": "b78771e2-5539-4332-96dd-c2fbb907da60",
   "metadata": {},
   "outputs": [
    {
     "name": "stdout",
     "output_type": "stream",
     "text": [
      "(33396, 10)\n"
     ]
    }
   ],
   "source": [
    "# Read in data\n",
    "df = pd.read_csv('McDonald_s_Reviews.csv', encoding = \"ISO-8859-1\")\n",
    "print(df.shape)"
   ]
  },
  {
   "cell_type": "code",
   "execution_count": 3,
   "id": "49f210e8-6629-409a-af7b-cf005ecc933a",
   "metadata": {},
   "outputs": [
    {
     "name": "stdout",
     "output_type": "stream",
     "text": [
      "<bound method NDFrame.head of        reviewer_id  store_name              category  \\\n",
      "0                1  McDonald's  Fast food restaurant   \n",
      "1                2  McDonald's  Fast food restaurant   \n",
      "2                3  McDonald's  Fast food restaurant   \n",
      "3                4  McDonald's  Fast food restaurant   \n",
      "4                5  McDonald's  Fast food restaurant   \n",
      "...            ...         ...                   ...   \n",
      "33391        33392  McDonald's  Fast food restaurant   \n",
      "33392        33393  McDonald's  Fast food restaurant   \n",
      "33393        33394  McDonald's  Fast food restaurant   \n",
      "33394        33395  McDonald's  Fast food restaurant   \n",
      "33395        33396  McDonald's  Fast food restaurant   \n",
      "\n",
      "                                           store_address  latitude   \\\n",
      "0      13749 US-183 Hwy, Austin, TX 78750, United States  30.460718   \n",
      "1      13749 US-183 Hwy, Austin, TX 78750, United States  30.460718   \n",
      "2      13749 US-183 Hwy, Austin, TX 78750, United States  30.460718   \n",
      "3      13749 US-183 Hwy, Austin, TX 78750, United States  30.460718   \n",
      "4      13749 US-183 Hwy, Austin, TX 78750, United States  30.460718   \n",
      "...                                                  ...        ...   \n",
      "33391  3501 Biscayne Blvd, Miami, FL 33137, United St...  25.810000   \n",
      "33392  3501 Biscayne Blvd, Miami, FL 33137, United St...  25.810000   \n",
      "33393  3501 Biscayne Blvd, Miami, FL 33137, United St...  25.810000   \n",
      "33394  3501 Biscayne Blvd, Miami, FL 33137, United St...  25.810000   \n",
      "33395  3501 Biscayne Blvd, Miami, FL 33137, United St...  25.810000   \n",
      "\n",
      "       longitude rating_count   review_time  \\\n",
      "0     -97.792874        1,240  3 months ago   \n",
      "1     -97.792874        1,240    5 days ago   \n",
      "2     -97.792874        1,240    5 days ago   \n",
      "3     -97.792874        1,240   a month ago   \n",
      "4     -97.792874        1,240  2 months ago   \n",
      "...          ...          ...           ...   \n",
      "33391 -80.189098        2,810   4 years ago   \n",
      "33392 -80.189098        2,810    a year ago   \n",
      "33393 -80.189098        2,810    a year ago   \n",
      "33394 -80.189098        2,810   5 years ago   \n",
      "33395 -80.189098        2,810   2 years ago   \n",
      "\n",
      "                                                  review   rating  \n",
      "0      Why does it look like someone spit on my food?...   1 star  \n",
      "1      It'd McDonalds. It is what it is as far as the...  4 stars  \n",
      "2      Made a mobile order got to the speaker and che...   1 star  \n",
      "3      My mc. Crispy chicken sandwich was ï¿½ï¿½ï¿½ï¿...  5 stars  \n",
      "4      I repeat my order 3 times in the drive thru, a...   1 star  \n",
      "...                                                  ...      ...  \n",
      "33391                        They treated me very badly.   1 star  \n",
      "33392                           The service is very good  5 stars  \n",
      "33393                         To remove hunger is enough  4 stars  \n",
      "33394  It's good, but lately it has become very expen...  5 stars  \n",
      "33395                          they took good care of me  5 stars  \n",
      "\n",
      "[33396 rows x 10 columns]>\n"
     ]
    }
   ],
   "source": [
    "print(df.head)"
   ]
  },
  {
   "cell_type": "code",
   "execution_count": 4,
   "id": "ca0e8a57-81dd-4e3b-b890-99aed7c2d942",
   "metadata": {},
   "outputs": [
    {
     "name": "stdout",
     "output_type": "stream",
     "text": [
      "<class 'pandas.core.frame.DataFrame'>\n",
      "RangeIndex: 33396 entries, 0 to 33395\n",
      "Data columns (total 10 columns):\n",
      " #   Column         Non-Null Count  Dtype  \n",
      "---  ------         --------------  -----  \n",
      " 0   reviewer_id    33396 non-null  int64  \n",
      " 1   store_name     33396 non-null  object \n",
      " 2   category       33396 non-null  object \n",
      " 3   store_address  33396 non-null  object \n",
      " 4   latitude       32736 non-null  float64\n",
      " 5   longitude      32736 non-null  float64\n",
      " 6   rating_count   33396 non-null  object \n",
      " 7   review_time    33396 non-null  object \n",
      " 8   review         33396 non-null  object \n",
      " 9   rating         33396 non-null  object \n",
      "dtypes: float64(2), int64(1), object(7)\n",
      "memory usage: 2.5+ MB\n"
     ]
    }
   ],
   "source": [
    "df.info()"
   ]
  },
  {
   "cell_type": "code",
   "execution_count": 5,
   "id": "27148b13-a445-4aca-a377-bf938d7eec80",
   "metadata": {},
   "outputs": [],
   "source": [
    "# Drop not needed columns\n",
    "df = df[['review','rating']]"
   ]
  },
  {
   "cell_type": "code",
   "execution_count": 6,
   "id": "21e16c28-937e-4f29-81a6-6e6044de2c3f",
   "metadata": {},
   "outputs": [
    {
     "name": "stdout",
     "output_type": "stream",
     "text": [
      "<class 'pandas.core.frame.DataFrame'>\n",
      "RangeIndex: 33396 entries, 0 to 33395\n",
      "Data columns (total 2 columns):\n",
      " #   Column  Non-Null Count  Dtype \n",
      "---  ------  --------------  ----- \n",
      " 0   review  33396 non-null  object\n",
      " 1   rating  33396 non-null  object\n",
      "dtypes: object(2)\n",
      "memory usage: 521.9+ KB\n"
     ]
    }
   ],
   "source": [
    "df.info()"
   ]
  },
  {
   "cell_type": "code",
   "execution_count": 7,
   "id": "bf83d41d-1b15-42ce-a24d-9d888d0ff9b5",
   "metadata": {},
   "outputs": [
    {
     "data": {
      "text/html": [
       "<div>\n",
       "<style scoped>\n",
       "    .dataframe tbody tr th:only-of-type {\n",
       "        vertical-align: middle;\n",
       "    }\n",
       "\n",
       "    .dataframe tbody tr th {\n",
       "        vertical-align: top;\n",
       "    }\n",
       "\n",
       "    .dataframe thead th {\n",
       "        text-align: right;\n",
       "    }\n",
       "</style>\n",
       "<table border=\"1\" class=\"dataframe\">\n",
       "  <thead>\n",
       "    <tr style=\"text-align: right;\">\n",
       "      <th></th>\n",
       "      <th>review</th>\n",
       "      <th>rating</th>\n",
       "    </tr>\n",
       "  </thead>\n",
       "  <tbody>\n",
       "    <tr>\n",
       "      <th>0</th>\n",
       "      <td>Why does it look like someone spit on my food?...</td>\n",
       "      <td>1 star</td>\n",
       "    </tr>\n",
       "    <tr>\n",
       "      <th>1</th>\n",
       "      <td>It'd McDonalds. It is what it is as far as the...</td>\n",
       "      <td>4 stars</td>\n",
       "    </tr>\n",
       "    <tr>\n",
       "      <th>2</th>\n",
       "      <td>Made a mobile order got to the speaker and che...</td>\n",
       "      <td>1 star</td>\n",
       "    </tr>\n",
       "    <tr>\n",
       "      <th>3</th>\n",
       "      <td>My mc. Crispy chicken sandwich was ï¿½ï¿½ï¿½ï¿...</td>\n",
       "      <td>5 stars</td>\n",
       "    </tr>\n",
       "    <tr>\n",
       "      <th>4</th>\n",
       "      <td>I repeat my order 3 times in the drive thru, a...</td>\n",
       "      <td>1 star</td>\n",
       "    </tr>\n",
       "  </tbody>\n",
       "</table>\n",
       "</div>"
      ],
      "text/plain": [
       "                                              review   rating\n",
       "0  Why does it look like someone spit on my food?...   1 star\n",
       "1  It'd McDonalds. It is what it is as far as the...  4 stars\n",
       "2  Made a mobile order got to the speaker and che...   1 star\n",
       "3  My mc. Crispy chicken sandwich was ï¿½ï¿½ï¿½ï¿...  5 stars\n",
       "4  I repeat my order 3 times in the drive thru, a...   1 star"
      ]
     },
     "execution_count": 7,
     "metadata": {},
     "output_type": "execute_result"
    }
   ],
   "source": [
    "df.head()"
   ]
  },
  {
   "cell_type": "code",
   "execution_count": 8,
   "id": "a91dc398-2532-478e-ad0a-5fa6665cff3d",
   "metadata": {},
   "outputs": [],
   "source": [
    "# Define Key to convert rating to number of stars\n",
    "starkey = {'5 stars': 5, '4 stars': 4, '3 stars': 3, '2 stars': 2, '1 star': 1}\n",
    "\n",
    "# Replace the values in multiple columns\n",
    "df.replace(starkey, inplace=True)"
   ]
  },
  {
   "cell_type": "code",
   "execution_count": 9,
   "id": "46f47a26-24bf-4d8d-9b90-711f516bec00",
   "metadata": {},
   "outputs": [
    {
     "data": {
      "image/png": "[encoded data removed]",
      "text/plain": [
       "<Figure size 1000x500 with 1 Axes>"
      ]
     },
     "metadata": {},
     "output_type": "display_data"
    }
   ],
   "source": [
    "ax = df['rating'].value_counts().sort_index() \\\n",
    "    .plot(kind='bar',\n",
    "          title='Count of Reviews by Stars',\n",
    "          figsize=(10, 5))\n",
    "ax.set_xlabel('Review Stars')\n",
    "plt.show()"
   ]
  },
  {
   "cell_type": "code",
   "execution_count": 10,
   "id": "85feac21-02a4-487f-a536-593ab5ea8a48",
   "metadata": {},
   "outputs": [
    {
     "data": {
      "text/plain": [
       "5    10274\n",
       "1     9431\n",
       "4     5787\n",
       "3     4818\n",
       "2     3086\n",
       "Name: rating, dtype: int64"
      ]
     },
     "execution_count": 10,
     "metadata": {},
     "output_type": "execute_result"
    }
   ],
   "source": [
    "df['rating'].value_counts()"
   ]
  },
  {
   "cell_type": "code",
   "execution_count": 11,
   "id": "6e8d7952-1d01-4682-b5d2-59c367a9476e",
   "metadata": {},
   "outputs": [],
   "source": [
    "# The dataset is biased toward positive reviews (4, 5 stars)\n",
    "# Total postive reviews (4, 5 stars) = 16061\n",
    "# Total negative reviews (1, 2 stars) = 12517\n",
    "# There are 28% more positive reviews than negative reviews\n",
    "# Later on, I will drop 2, 3, and 4 star reviews to lower this to 9% more positive reviews"
   ]
  },
  {
   "cell_type": "code",
   "execution_count": 12,
   "id": "a5e6792a-935f-4ef0-aac2-3c6cf4e494d9",
   "metadata": {},
   "outputs": [
    {
     "name": "stdout",
     "output_type": "stream",
     "text": [
      "I went to this location tonight to see if they could give me the Oreo Mcflurry that a different McDonaldï¿½ï¿½ï¿½ï¿½ï¿½ï¿½ï¿½ï¿½ï¿½ï¿½ï¿½ï¿½ï¿½ï¿½ï¿½ï¿½ï¿½ï¿½ï¿½ï¿½ï¿½ï¿½ï¿½ï¿½ï¿½ï¿½ï¿½s had forgotten earlier they completely refused. Unbelievable.. Itï¿½ï¿½ï¿½ï¿½ï¿½ï¿½ï¿½ï¿½ï¿½ï¿½ï¿½ï¿½ï¿½ï¿½ï¿½ï¿½ï¿½ï¿½ï¿½ï¿½ï¿½ï¿½ï¿½ï¿½ï¿½ï¿½ï¿½s ice creamï¿½ï¿½ï¿½ï¿½ï¿½ï¿½ï¿½ï¿½ï¿½ï¿½ï¿½ï¿½ï¿½ï\n"
     ]
    }
   ],
   "source": [
    "# Show sample review to check characters\n",
    "example = df['review'][50]\n",
    "print(example)"
   ]
  },
  {
   "cell_type": "code",
   "execution_count": 13,
   "id": "118d416e-338a-4e30-87c5-3733cad97a36",
   "metadata": {},
   "outputs": [],
   "source": [
    "# Remove non-english text and convert to lowercase\n",
    "# Sources\n",
    "# https://www.kaggle.com/code/aniketkadam702030/mcdonalds-store-reviews-keras\n",
    "# https://medium.com/@priyaag0707/mcdonald-review-project-on-sentiment-analysis-4a5108c8eb53\n",
    "def review_simplify(text):\n",
    "    text=re.sub(\"\\[.*#&]\",\" \",text)\n",
    "    #removing the emails\n",
    "    text=re.sub(\"https?://\\S+|www\\.\\S+\",\"\",text)\n",
    "    text=re.sub(\"[^a-zA-Z0-9\\s]+\",\"\",text)\n",
    "    #removing the numbers\n",
    "    text = re.sub('\\w*\\d\\w*', '', text)\n",
    "    #removing the stepwords\n",
    "    stop_words = set(stopwords.words('english'))\n",
    "    words = text.split()\n",
    "    filtered_words = [word for word in words if word not in stop_words]\n",
    "    text = ' '.join(filtered_words)\n",
    "    # Remove extra whitespace\n",
    "    text = re.sub('\\s+', ' ', text).strip()\n",
    "    return text\n",
    "df['review']=df['review'].apply(review_simplify)  \n",
    "\n",
    "def lowercase(text):\n",
    "    text=text.lower()\n",
    "    return text\n",
    "\n",
    "df['review']=df['review'].apply(lowercase)"
   ]
  },
  {
   "cell_type": "code",
   "execution_count": 14,
   "id": "84f7f9ab-03bc-4eaf-96a0-52d430860ffb",
   "metadata": {},
   "outputs": [
    {
     "name": "stdout",
     "output_type": "stream",
     "text": [
      "i went location tonight see could give oreo mcflurry different mcdonalds forgotten earlier completely refused unbelievable its ice cream\n"
     ]
    }
   ],
   "source": [
    "# Check if review is clean\n",
    "example = df['review'][50]\n",
    "print(example)"
   ]
  },
  {
   "cell_type": "code",
   "execution_count": 15,
   "id": "33b7446b-ce77-415c-96a1-ca4a154e7e66",
   "metadata": {},
   "outputs": [
    {
     "name": "stdout",
     "output_type": "stream",
     "text": [
      "<class 'pandas.core.frame.DataFrame'>\n",
      "RangeIndex: 33396 entries, 0 to 33395\n",
      "Data columns (total 2 columns):\n",
      " #   Column  Non-Null Count  Dtype \n",
      "---  ------  --------------  ----- \n",
      " 0   review  33396 non-null  object\n",
      " 1   rating  33396 non-null  int64 \n",
      "dtypes: int64(1), object(1)\n",
      "memory usage: 521.9+ KB\n"
     ]
    }
   ],
   "source": [
    "df.info()"
   ]
  },
  {
   "cell_type": "code",
   "execution_count": 16,
   "id": "c926de73-81ce-46be-967d-a338063cb57f",
   "metadata": {},
   "outputs": [
    {
     "data": {
      "text/html": [
       "<div>\n",
       "<style scoped>\n",
       "    .dataframe tbody tr th:only-of-type {\n",
       "        vertical-align: middle;\n",
       "    }\n",
       "\n",
       "    .dataframe tbody tr th {\n",
       "        vertical-align: top;\n",
       "    }\n",
       "\n",
       "    .dataframe thead th {\n",
       "        text-align: right;\n",
       "    }\n",
       "</style>\n",
       "<table border=\"1\" class=\"dataframe\">\n",
       "  <thead>\n",
       "    <tr style=\"text-align: right;\">\n",
       "      <th></th>\n",
       "      <th>review</th>\n",
       "      <th>rating</th>\n",
       "    </tr>\n",
       "  </thead>\n",
       "  <tbody>\n",
       "    <tr>\n",
       "      <th>0</th>\n",
       "      <td>why look like someone spit food i normal trans...</td>\n",
       "      <td>1</td>\n",
       "    </tr>\n",
       "    <tr>\n",
       "      <th>1</th>\n",
       "      <td>itd mcdonalds it far food atmosphere go the st...</td>\n",
       "      <td>4</td>\n",
       "    </tr>\n",
       "    <tr>\n",
       "      <th>2</th>\n",
       "      <td>made mobile order got speaker checked line mov...</td>\n",
       "      <td>1</td>\n",
       "    </tr>\n",
       "    <tr>\n",
       "      <th>3</th>\n",
       "      <td>my mc crispy chicken sandwich customer service...</td>\n",
       "      <td>5</td>\n",
       "    </tr>\n",
       "    <tr>\n",
       "      <th>4</th>\n",
       "      <td>i repeat order times drive thru still manage m...</td>\n",
       "      <td>1</td>\n",
       "    </tr>\n",
       "  </tbody>\n",
       "</table>\n",
       "</div>"
      ],
      "text/plain": [
       "                                              review  rating\n",
       "0  why look like someone spit food i normal trans...       1\n",
       "1  itd mcdonalds it far food atmosphere go the st...       4\n",
       "2  made mobile order got speaker checked line mov...       1\n",
       "3  my mc crispy chicken sandwich customer service...       5\n",
       "4  i repeat order times drive thru still manage m...       1"
      ]
     },
     "execution_count": 16,
     "metadata": {},
     "output_type": "execute_result"
    }
   ],
   "source": [
    "df.head()"
   ]
  },
  {
   "cell_type": "code",
   "execution_count": 17,
   "id": "cdd30cd2-9b43-479b-9764-d73fa5791c07",
   "metadata": {},
   "outputs": [],
   "source": [
    "# Drop rows with ratings of 2, 3, 4\n",
    "# a = [3]\n",
    "# df = df[~df['date'].isin(a)]\n",
    "df2 = df[~df['rating'].isin([2, 3, 4])]"
   ]
  },
  {
   "cell_type": "code",
   "execution_count": 18,
   "id": "d665447e-a2d1-4e61-ab48-8eb90c2cb5d3",
   "metadata": {},
   "outputs": [],
   "source": [
    "# # If extremely low on Ram, or processing a larger dataset, uncomment and run once sure df2 is correct.\n",
    "# del df"
   ]
  },
  {
   "cell_type": "code",
   "execution_count": 19,
   "id": "ff744ef2-b94c-41d2-8e21-2ec8e0e8280c",
   "metadata": {},
   "outputs": [
    {
     "data": {
      "text/html": [
       "<div>\n",
       "<style scoped>\n",
       "    .dataframe tbody tr th:only-of-type {\n",
       "        vertical-align: middle;\n",
       "    }\n",
       "\n",
       "    .dataframe tbody tr th {\n",
       "        vertical-align: top;\n",
       "    }\n",
       "\n",
       "    .dataframe thead th {\n",
       "        text-align: right;\n",
       "    }\n",
       "</style>\n",
       "<table border=\"1\" class=\"dataframe\">\n",
       "  <thead>\n",
       "    <tr style=\"text-align: right;\">\n",
       "      <th></th>\n",
       "      <th>review</th>\n",
       "      <th>rating</th>\n",
       "      <th>LikeDislike</th>\n",
       "    </tr>\n",
       "  </thead>\n",
       "  <tbody>\n",
       "    <tr>\n",
       "      <th>0</th>\n",
       "      <td>why look like someone spit food i normal trans...</td>\n",
       "      <td>1</td>\n",
       "      <td>0</td>\n",
       "    </tr>\n",
       "    <tr>\n",
       "      <th>2</th>\n",
       "      <td>made mobile order got speaker checked line mov...</td>\n",
       "      <td>1</td>\n",
       "      <td>0</td>\n",
       "    </tr>\n",
       "  </tbody>\n",
       "</table>\n",
       "</div>"
      ],
      "text/plain": [
       "                                              review  rating  LikeDislike\n",
       "0  why look like someone spit food i normal trans...       1            0\n",
       "2  made mobile order got speaker checked line mov...       1            0"
      ]
     },
     "execution_count": 19,
     "metadata": {},
     "output_type": "execute_result"
    }
   ],
   "source": [
    "# Convert reviews to binary classification\n",
    "rating_outcome = []\n",
    "\n",
    "for value in df2['rating']:\n",
    "    if value < 3:\n",
    "        rating_outcome.append(0)\n",
    "    else:\n",
    "        rating_outcome.append(1)\n",
    "df2['LikeDislike'] = rating_outcome\n",
    "df2.head(2)"
   ]
  },
  {
   "cell_type": "code",
   "execution_count": 20,
   "id": "bb909279-7a6b-4555-9828-887e96bc11e5",
   "metadata": {},
   "outputs": [
    {
     "name": "stdout",
     "output_type": "stream",
     "text": [
      "<class 'pandas.core.frame.DataFrame'>\n",
      "Int64Index: 19705 entries, 0 to 33395\n",
      "Data columns (total 3 columns):\n",
      " #   Column       Non-Null Count  Dtype \n",
      "---  ------       --------------  ----- \n",
      " 0   review       19705 non-null  object\n",
      " 1   rating       19705 non-null  int64 \n",
      " 2   LikeDislike  19705 non-null  int64 \n",
      "dtypes: int64(2), object(1)\n",
      "memory usage: 615.8+ KB\n"
     ]
    },
    {
     "data": {
      "text/html": [
       "<div>\n",
       "<style scoped>\n",
       "    .dataframe tbody tr th:only-of-type {\n",
       "        vertical-align: middle;\n",
       "    }\n",
       "\n",
       "    .dataframe tbody tr th {\n",
       "        vertical-align: top;\n",
       "    }\n",
       "\n",
       "    .dataframe thead th {\n",
       "        text-align: right;\n",
       "    }\n",
       "</style>\n",
       "<table border=\"1\" class=\"dataframe\">\n",
       "  <thead>\n",
       "    <tr style=\"text-align: right;\">\n",
       "      <th></th>\n",
       "      <th>review</th>\n",
       "      <th>rating</th>\n",
       "      <th>LikeDislike</th>\n",
       "    </tr>\n",
       "  </thead>\n",
       "  <tbody>\n",
       "    <tr>\n",
       "      <th>0</th>\n",
       "      <td>why look like someone spit food i normal trans...</td>\n",
       "      <td>1</td>\n",
       "      <td>0</td>\n",
       "    </tr>\n",
       "    <tr>\n",
       "      <th>2</th>\n",
       "      <td>made mobile order got speaker checked line mov...</td>\n",
       "      <td>1</td>\n",
       "      <td>0</td>\n",
       "    </tr>\n",
       "    <tr>\n",
       "      <th>3</th>\n",
       "      <td>my mc crispy chicken sandwich customer service...</td>\n",
       "      <td>5</td>\n",
       "      <td>1</td>\n",
       "    </tr>\n",
       "    <tr>\n",
       "      <th>4</th>\n",
       "      <td>i repeat order times drive thru still manage m...</td>\n",
       "      <td>1</td>\n",
       "      <td>0</td>\n",
       "    </tr>\n",
       "    <tr>\n",
       "      <th>5</th>\n",
       "      <td>i work door dash locked us wait long line reas...</td>\n",
       "      <td>1</td>\n",
       "      <td>0</td>\n",
       "    </tr>\n",
       "  </tbody>\n",
       "</table>\n",
       "</div>"
      ],
      "text/plain": [
       "                                              review  rating  LikeDislike\n",
       "0  why look like someone spit food i normal trans...       1            0\n",
       "2  made mobile order got speaker checked line mov...       1            0\n",
       "3  my mc crispy chicken sandwich customer service...       5            1\n",
       "4  i repeat order times drive thru still manage m...       1            0\n",
       "5  i work door dash locked us wait long line reas...       1            0"
      ]
     },
     "execution_count": 20,
     "metadata": {},
     "output_type": "execute_result"
    }
   ],
   "source": [
    "# Check outcomes\n",
    "df2.info()\n",
    "df2.head()"
   ]
  },
  {
   "cell_type": "code",
   "execution_count": 21,
   "id": "c8141892-a575-4802-9945-f0a2b6fa5499",
   "metadata": {},
   "outputs": [
    {
     "name": "stdout",
     "output_type": "stream",
     "text": [
      "<class 'pandas.core.frame.DataFrame'>\n",
      "Int64Index: 19705 entries, 0 to 33395\n",
      "Data columns (total 2 columns):\n",
      " #   Column       Non-Null Count  Dtype \n",
      "---  ------       --------------  ----- \n",
      " 0   review       19705 non-null  object\n",
      " 1   LikeDislike  19705 non-null  int64 \n",
      "dtypes: int64(1), object(1)\n",
      "memory usage: 461.8+ KB\n"
     ]
    },
    {
     "data": {
      "text/html": [
       "<div>\n",
       "<style scoped>\n",
       "    .dataframe tbody tr th:only-of-type {\n",
       "        vertical-align: middle;\n",
       "    }\n",
       "\n",
       "    .dataframe tbody tr th {\n",
       "        vertical-align: top;\n",
       "    }\n",
       "\n",
       "    .dataframe thead th {\n",
       "        text-align: right;\n",
       "    }\n",
       "</style>\n",
       "<table border=\"1\" class=\"dataframe\">\n",
       "  <thead>\n",
       "    <tr style=\"text-align: right;\">\n",
       "      <th></th>\n",
       "      <th>review</th>\n",
       "      <th>LikeDislike</th>\n",
       "    </tr>\n",
       "  </thead>\n",
       "  <tbody>\n",
       "    <tr>\n",
       "      <th>0</th>\n",
       "      <td>why look like someone spit food i normal trans...</td>\n",
       "      <td>0</td>\n",
       "    </tr>\n",
       "    <tr>\n",
       "      <th>2</th>\n",
       "      <td>made mobile order got speaker checked line mov...</td>\n",
       "      <td>0</td>\n",
       "    </tr>\n",
       "    <tr>\n",
       "      <th>3</th>\n",
       "      <td>my mc crispy chicken sandwich customer service...</td>\n",
       "      <td>1</td>\n",
       "    </tr>\n",
       "    <tr>\n",
       "      <th>4</th>\n",
       "      <td>i repeat order times drive thru still manage m...</td>\n",
       "      <td>0</td>\n",
       "    </tr>\n",
       "    <tr>\n",
       "      <th>5</th>\n",
       "      <td>i work door dash locked us wait long line reas...</td>\n",
       "      <td>0</td>\n",
       "    </tr>\n",
       "  </tbody>\n",
       "</table>\n",
       "</div>"
      ],
      "text/plain": [
       "                                              review  LikeDislike\n",
       "0  why look like someone spit food i normal trans...            0\n",
       "2  made mobile order got speaker checked line mov...            0\n",
       "3  my mc crispy chicken sandwich customer service...            1\n",
       "4  i repeat order times drive thru still manage m...            0\n",
       "5  i work door dash locked us wait long line reas...            0"
      ]
     },
     "execution_count": 21,
     "metadata": {},
     "output_type": "execute_result"
    }
   ],
   "source": [
    "# Drop rating in favor of Like Dislike\n",
    "df2 = df2.drop(columns=['rating'])\n",
    "df2.info()\n",
    "df2.head()"
   ]
  },
  {
   "cell_type": "code",
   "execution_count": 22,
   "id": "a22b0a67-f430-480e-bf51-83818bd292ba",
   "metadata": {},
   "outputs": [],
   "source": [
    "## VADER Sentiment Scoring\n",
    "# I am following a tutorial found here\n",
    "# https://www.kaggle.com/code/robikscube/sentiment-analysis-python-youtube-tutorial/notebook"
   ]
  },
  {
   "cell_type": "code",
   "execution_count": 23,
   "id": "0f478619-1793-4b46-a421-9a82a18190fd",
   "metadata": {},
   "outputs": [],
   "source": [
    "sia = SentimentIntensityAnalyzer()"
   ]
  },
  {
   "cell_type": "code",
   "execution_count": 24,
   "id": "6b57c1a2-45be-4c44-ad90-d3e8369c9cc2",
   "metadata": {},
   "outputs": [
    {
     "data": {
      "text/plain": [
       "{'neg': 0.0, 'neu': 0.408, 'pos': 0.592, 'compound': 0.4404}"
      ]
     },
     "execution_count": 24,
     "metadata": {},
     "output_type": "execute_result"
    }
   ],
   "source": [
    "sia.polarity_scores('food is good')"
   ]
  },
  {
   "cell_type": "code",
   "execution_count": 25,
   "id": "1fb13466-3053-4bb7-b15e-153665b821a9",
   "metadata": {},
   "outputs": [
    {
     "data": {
      "text/plain": [
       "{'neg': 0.0, 'neu': 0.385, 'pos': 0.615, 'compound': 0.4926}"
      ]
     },
     "execution_count": 25,
     "metadata": {},
     "output_type": "execute_result"
    }
   ],
   "source": [
    "sia.polarity_scores('food is good!')"
   ]
  },
  {
   "cell_type": "code",
   "execution_count": 26,
   "id": "2f439a2d-8b70-49f0-889f-7f90a7222b4a",
   "metadata": {},
   "outputs": [
    {
     "data": {
      "text/plain": [
       "{'neg': 0.636, 'neu': 0.364, 'pos': 0.0, 'compound': -0.5423}"
      ]
     },
     "execution_count": 26,
     "metadata": {},
     "output_type": "execute_result"
    }
   ],
   "source": [
    "sia.polarity_scores('Food is bad')"
   ]
  },
  {
   "cell_type": "code",
   "execution_count": 27,
   "id": "b142f075-7422-434f-b88f-c47761c68620",
   "metadata": {},
   "outputs": [],
   "source": [
    "df3 = df2.reset_index(drop=True)"
   ]
  },
  {
   "cell_type": "code",
   "execution_count": 28,
   "id": "782fdb25-ce88-43e7-bfae-74380cdc08a9",
   "metadata": {},
   "outputs": [
    {
     "data": {
      "text/html": [
       "<div>\n",
       "<style scoped>\n",
       "    .dataframe tbody tr th:only-of-type {\n",
       "        vertical-align: middle;\n",
       "    }\n",
       "\n",
       "    .dataframe tbody tr th {\n",
       "        vertical-align: top;\n",
       "    }\n",
       "\n",
       "    .dataframe thead th {\n",
       "        text-align: right;\n",
       "    }\n",
       "</style>\n",
       "<table border=\"1\" class=\"dataframe\">\n",
       "  <thead>\n",
       "    <tr style=\"text-align: right;\">\n",
       "      <th></th>\n",
       "      <th>review</th>\n",
       "      <th>LikeDislike</th>\n",
       "    </tr>\n",
       "  </thead>\n",
       "  <tbody>\n",
       "    <tr>\n",
       "      <th>0</th>\n",
       "      <td>why look like someone spit food i normal trans...</td>\n",
       "      <td>0</td>\n",
       "    </tr>\n",
       "    <tr>\n",
       "      <th>1</th>\n",
       "      <td>made mobile order got speaker checked line mov...</td>\n",
       "      <td>0</td>\n",
       "    </tr>\n",
       "    <tr>\n",
       "      <th>2</th>\n",
       "      <td>my mc crispy chicken sandwich customer service...</td>\n",
       "      <td>1</td>\n",
       "    </tr>\n",
       "    <tr>\n",
       "      <th>3</th>\n",
       "      <td>i repeat order times drive thru still manage m...</td>\n",
       "      <td>0</td>\n",
       "    </tr>\n",
       "    <tr>\n",
       "      <th>4</th>\n",
       "      <td>i work door dash locked us wait long line reas...</td>\n",
       "      <td>0</td>\n",
       "    </tr>\n",
       "  </tbody>\n",
       "</table>\n",
       "</div>"
      ],
      "text/plain": [
       "                                              review  LikeDislike\n",
       "0  why look like someone spit food i normal trans...            0\n",
       "1  made mobile order got speaker checked line mov...            0\n",
       "2  my mc crispy chicken sandwich customer service...            1\n",
       "3  i repeat order times drive thru still manage m...            0\n",
       "4  i work door dash locked us wait long line reas...            0"
      ]
     },
     "execution_count": 28,
     "metadata": {},
     "output_type": "execute_result"
    }
   ],
   "source": [
    "df3.head()"
   ]
  },
  {
   "cell_type": "code",
   "execution_count": 29,
   "id": "ef7adcea-a919-48fc-a1ab-bc559387b0dd",
   "metadata": {},
   "outputs": [
    {
     "data": {
      "text/html": [
       "<div>\n",
       "<style scoped>\n",
       "    .dataframe tbody tr th:only-of-type {\n",
       "        vertical-align: middle;\n",
       "    }\n",
       "\n",
       "    .dataframe tbody tr th {\n",
       "        vertical-align: top;\n",
       "    }\n",
       "\n",
       "    .dataframe thead th {\n",
       "        text-align: right;\n",
       "    }\n",
       "</style>\n",
       "<table border=\"1\" class=\"dataframe\">\n",
       "  <thead>\n",
       "    <tr style=\"text-align: right;\">\n",
       "      <th></th>\n",
       "      <th>review</th>\n",
       "      <th>LikeDislike</th>\n",
       "      <th>Id</th>\n",
       "    </tr>\n",
       "  </thead>\n",
       "  <tbody>\n",
       "    <tr>\n",
       "      <th>0</th>\n",
       "      <td>why look like someone spit food i normal trans...</td>\n",
       "      <td>0</td>\n",
       "      <td>1</td>\n",
       "    </tr>\n",
       "    <tr>\n",
       "      <th>1</th>\n",
       "      <td>made mobile order got speaker checked line mov...</td>\n",
       "      <td>0</td>\n",
       "      <td>2</td>\n",
       "    </tr>\n",
       "    <tr>\n",
       "      <th>2</th>\n",
       "      <td>my mc crispy chicken sandwich customer service...</td>\n",
       "      <td>1</td>\n",
       "      <td>3</td>\n",
       "    </tr>\n",
       "    <tr>\n",
       "      <th>3</th>\n",
       "      <td>i repeat order times drive thru still manage m...</td>\n",
       "      <td>0</td>\n",
       "      <td>4</td>\n",
       "    </tr>\n",
       "    <tr>\n",
       "      <th>4</th>\n",
       "      <td>i work door dash locked us wait long line reas...</td>\n",
       "      <td>0</td>\n",
       "      <td>5</td>\n",
       "    </tr>\n",
       "  </tbody>\n",
       "</table>\n",
       "</div>"
      ],
      "text/plain": [
       "                                              review  LikeDislike  Id\n",
       "0  why look like someone spit food i normal trans...            0   1\n",
       "1  made mobile order got speaker checked line mov...            0   2\n",
       "2  my mc crispy chicken sandwich customer service...            1   3\n",
       "3  i repeat order times drive thru still manage m...            0   4\n",
       "4  i work door dash locked us wait long line reas...            0   5"
      ]
     },
     "execution_count": 29,
     "metadata": {},
     "output_type": "execute_result"
    }
   ],
   "source": [
    "df3[\"Id\"] = df3.index + 1\n",
    "df3.head()"
   ]
  },
  {
   "cell_type": "code",
   "execution_count": 30,
   "id": "b0106123-e2b5-4c4d-bbd0-b560c6668aeb",
   "metadata": {},
   "outputs": [
    {
     "data": {
      "text/html": [
       "<div>\n",
       "<style scoped>\n",
       "    .dataframe tbody tr th:only-of-type {\n",
       "        vertical-align: middle;\n",
       "    }\n",
       "\n",
       "    .dataframe tbody tr th {\n",
       "        vertical-align: top;\n",
       "    }\n",
       "\n",
       "    .dataframe thead th {\n",
       "        text-align: right;\n",
       "    }\n",
       "</style>\n",
       "<table border=\"1\" class=\"dataframe\">\n",
       "  <thead>\n",
       "    <tr style=\"text-align: right;\">\n",
       "      <th></th>\n",
       "      <th>review</th>\n",
       "      <th>LikeDislike</th>\n",
       "      <th>Id</th>\n",
       "    </tr>\n",
       "  </thead>\n",
       "  <tbody>\n",
       "    <tr>\n",
       "      <th>19700</th>\n",
       "      <td>very well</td>\n",
       "      <td>1</td>\n",
       "      <td>19701</td>\n",
       "    </tr>\n",
       "    <tr>\n",
       "      <th>19701</th>\n",
       "      <td>they treated badly</td>\n",
       "      <td>0</td>\n",
       "      <td>19702</td>\n",
       "    </tr>\n",
       "    <tr>\n",
       "      <th>19702</th>\n",
       "      <td>the service good</td>\n",
       "      <td>1</td>\n",
       "      <td>19703</td>\n",
       "    </tr>\n",
       "    <tr>\n",
       "      <th>19703</th>\n",
       "      <td>its good lately become expensive</td>\n",
       "      <td>1</td>\n",
       "      <td>19704</td>\n",
       "    </tr>\n",
       "    <tr>\n",
       "      <th>19704</th>\n",
       "      <td>took good care</td>\n",
       "      <td>1</td>\n",
       "      <td>19705</td>\n",
       "    </tr>\n",
       "  </tbody>\n",
       "</table>\n",
       "</div>"
      ],
      "text/plain": [
       "                                 review  LikeDislike     Id\n",
       "19700                         very well            1  19701\n",
       "19701                they treated badly            0  19702\n",
       "19702                  the service good            1  19703\n",
       "19703  its good lately become expensive            1  19704\n",
       "19704                    took good care            1  19705"
      ]
     },
     "execution_count": 30,
     "metadata": {},
     "output_type": "execute_result"
    }
   ],
   "source": [
    "df3.tail()"
   ]
  },
  {
   "cell_type": "code",
   "execution_count": 31,
   "id": "82fda9f2-4a64-44b9-9186-7fc123220cf7",
   "metadata": {},
   "outputs": [
    {
     "data": {
      "application/vnd.jupyter.widget-view+json": {
       "model_id": "a5fbebc26f4543768a46222fc2e5b449",
       "version_major": 2,
       "version_minor": 0
      },
      "text/plain": [
       "  0%|          | 0/19705 [00:00<?, ?it/s]"
      ]
     },
     "metadata": {},
     "output_type": "display_data"
    }
   ],
   "source": [
    "# Get score for each review\n",
    "res = {}\n",
    "for i, row in tqdm(df3.iterrows(), total=len(df3)):\n",
    "    text = row['review']\n",
    "    myid = row['Id']\n",
    "    res[myid] = sia.polarity_scores(text)"
   ]
  },
  {
   "cell_type": "code",
   "execution_count": 32,
   "id": "e4b190fa-6bca-4e85-bbdd-a43b1ad08cf9",
   "metadata": {},
   "outputs": [],
   "source": [
    "# Process reviews with VADER\n",
    "vaders = pd.DataFrame(res).T\n",
    "vaders = vaders.reset_index().rename(columns={'index': 'Id'})\n",
    "vaders = vaders.merge(df3, how='left')"
   ]
  },
  {
   "cell_type": "code",
   "execution_count": 33,
   "id": "3a598ebe-5d86-4176-ae1f-ec74769812b0",
   "metadata": {},
   "outputs": [
    {
     "data": {
      "text/html": [
       "<div>\n",
       "<style scoped>\n",
       "    .dataframe tbody tr th:only-of-type {\n",
       "        vertical-align: middle;\n",
       "    }\n",
       "\n",
       "    .dataframe tbody tr th {\n",
       "        vertical-align: top;\n",
       "    }\n",
       "\n",
       "    .dataframe thead th {\n",
       "        text-align: right;\n",
       "    }\n",
       "</style>\n",
       "<table border=\"1\" class=\"dataframe\">\n",
       "  <thead>\n",
       "    <tr style=\"text-align: right;\">\n",
       "      <th></th>\n",
       "      <th>Id</th>\n",
       "      <th>neg</th>\n",
       "      <th>neu</th>\n",
       "      <th>pos</th>\n",
       "      <th>compound</th>\n",
       "      <th>review</th>\n",
       "      <th>LikeDislike</th>\n",
       "    </tr>\n",
       "  </thead>\n",
       "  <tbody>\n",
       "    <tr>\n",
       "      <th>0</th>\n",
       "      <td>1</td>\n",
       "      <td>0.045</td>\n",
       "      <td>0.777</td>\n",
       "      <td>0.178</td>\n",
       "      <td>0.5541</td>\n",
       "      <td>why look like someone spit food i normal trans...</td>\n",
       "      <td>0</td>\n",
       "    </tr>\n",
       "    <tr>\n",
       "      <th>1</th>\n",
       "      <td>2</td>\n",
       "      <td>0.096</td>\n",
       "      <td>0.904</td>\n",
       "      <td>0.000</td>\n",
       "      <td>-0.2960</td>\n",
       "      <td>made mobile order got speaker checked line mov...</td>\n",
       "      <td>0</td>\n",
       "    </tr>\n",
       "    <tr>\n",
       "      <th>2</th>\n",
       "      <td>3</td>\n",
       "      <td>0.000</td>\n",
       "      <td>1.000</td>\n",
       "      <td>0.000</td>\n",
       "      <td>0.0000</td>\n",
       "      <td>my mc crispy chicken sandwich customer service...</td>\n",
       "      <td>1</td>\n",
       "    </tr>\n",
       "    <tr>\n",
       "      <th>3</th>\n",
       "      <td>4</td>\n",
       "      <td>0.194</td>\n",
       "      <td>0.806</td>\n",
       "      <td>0.000</td>\n",
       "      <td>-0.7184</td>\n",
       "      <td>i repeat order times drive thru still manage m...</td>\n",
       "      <td>0</td>\n",
       "    </tr>\n",
       "    <tr>\n",
       "      <th>4</th>\n",
       "      <td>5</td>\n",
       "      <td>0.104</td>\n",
       "      <td>0.896</td>\n",
       "      <td>0.000</td>\n",
       "      <td>-0.2960</td>\n",
       "      <td>i work door dash locked us wait long line reas...</td>\n",
       "      <td>0</td>\n",
       "    </tr>\n",
       "  </tbody>\n",
       "</table>\n",
       "</div>"
      ],
      "text/plain": [
       "   Id    neg    neu    pos  compound  \\\n",
       "0   1  0.045  0.777  0.178    0.5541   \n",
       "1   2  0.096  0.904  0.000   -0.2960   \n",
       "2   3  0.000  1.000  0.000    0.0000   \n",
       "3   4  0.194  0.806  0.000   -0.7184   \n",
       "4   5  0.104  0.896  0.000   -0.2960   \n",
       "\n",
       "                                              review  LikeDislike  \n",
       "0  why look like someone spit food i normal trans...            0  \n",
       "1  made mobile order got speaker checked line mov...            0  \n",
       "2  my mc crispy chicken sandwich customer service...            1  \n",
       "3  i repeat order times drive thru still manage m...            0  \n",
       "4  i work door dash locked us wait long line reas...            0  "
      ]
     },
     "execution_count": 33,
     "metadata": {},
     "output_type": "execute_result"
    }
   ],
   "source": [
    "vaders.head()"
   ]
  },
  {
   "cell_type": "code",
   "execution_count": 34,
   "id": "120374e0-a281-4854-a75c-fc6b118624aa",
   "metadata": {},
   "outputs": [
    {
     "data": {
      "text/html": [
       "<div>\n",
       "<style scoped>\n",
       "    .dataframe tbody tr th:only-of-type {\n",
       "        vertical-align: middle;\n",
       "    }\n",
       "\n",
       "    .dataframe tbody tr th {\n",
       "        vertical-align: top;\n",
       "    }\n",
       "\n",
       "    .dataframe thead th {\n",
       "        text-align: right;\n",
       "    }\n",
       "</style>\n",
       "<table border=\"1\" class=\"dataframe\">\n",
       "  <thead>\n",
       "    <tr style=\"text-align: right;\">\n",
       "      <th></th>\n",
       "      <th>Id</th>\n",
       "      <th>neg</th>\n",
       "      <th>neu</th>\n",
       "      <th>pos</th>\n",
       "      <th>compound</th>\n",
       "      <th>review</th>\n",
       "      <th>LikeDislike</th>\n",
       "      <th>VadersLikeDislike</th>\n",
       "    </tr>\n",
       "  </thead>\n",
       "  <tbody>\n",
       "    <tr>\n",
       "      <th>0</th>\n",
       "      <td>1</td>\n",
       "      <td>0.045</td>\n",
       "      <td>0.777</td>\n",
       "      <td>0.178</td>\n",
       "      <td>0.5541</td>\n",
       "      <td>why look like someone spit food i normal trans...</td>\n",
       "      <td>0</td>\n",
       "      <td>1</td>\n",
       "    </tr>\n",
       "    <tr>\n",
       "      <th>1</th>\n",
       "      <td>2</td>\n",
       "      <td>0.096</td>\n",
       "      <td>0.904</td>\n",
       "      <td>0.000</td>\n",
       "      <td>-0.2960</td>\n",
       "      <td>made mobile order got speaker checked line mov...</td>\n",
       "      <td>0</td>\n",
       "      <td>0</td>\n",
       "    </tr>\n",
       "    <tr>\n",
       "      <th>2</th>\n",
       "      <td>3</td>\n",
       "      <td>0.000</td>\n",
       "      <td>1.000</td>\n",
       "      <td>0.000</td>\n",
       "      <td>0.0000</td>\n",
       "      <td>my mc crispy chicken sandwich customer service...</td>\n",
       "      <td>1</td>\n",
       "      <td>0</td>\n",
       "    </tr>\n",
       "    <tr>\n",
       "      <th>3</th>\n",
       "      <td>4</td>\n",
       "      <td>0.194</td>\n",
       "      <td>0.806</td>\n",
       "      <td>0.000</td>\n",
       "      <td>-0.7184</td>\n",
       "      <td>i repeat order times drive thru still manage m...</td>\n",
       "      <td>0</td>\n",
       "      <td>0</td>\n",
       "    </tr>\n",
       "    <tr>\n",
       "      <th>4</th>\n",
       "      <td>5</td>\n",
       "      <td>0.104</td>\n",
       "      <td>0.896</td>\n",
       "      <td>0.000</td>\n",
       "      <td>-0.2960</td>\n",
       "      <td>i work door dash locked us wait long line reas...</td>\n",
       "      <td>0</td>\n",
       "      <td>0</td>\n",
       "    </tr>\n",
       "    <tr>\n",
       "      <th>5</th>\n",
       "      <td>6</td>\n",
       "      <td>0.062</td>\n",
       "      <td>0.916</td>\n",
       "      <td>0.022</td>\n",
       "      <td>-0.5667</td>\n",
       "      <td>if i could give location zero customer service...</td>\n",
       "      <td>0</td>\n",
       "      <td>0</td>\n",
       "    </tr>\n",
       "    <tr>\n",
       "      <th>6</th>\n",
       "      <td>7</td>\n",
       "      <td>0.036</td>\n",
       "      <td>0.885</td>\n",
       "      <td>0.078</td>\n",
       "      <td>0.3818</td>\n",
       "      <td>came ordered large coffee wno ice they handed ...</td>\n",
       "      <td>0</td>\n",
       "      <td>1</td>\n",
       "    </tr>\n",
       "    <tr>\n",
       "      <th>7</th>\n",
       "      <td>8</td>\n",
       "      <td>0.242</td>\n",
       "      <td>0.758</td>\n",
       "      <td>0.000</td>\n",
       "      <td>-0.6901</td>\n",
       "      <td>went thru drive thru ordered getting home noti...</td>\n",
       "      <td>0</td>\n",
       "      <td>0</td>\n",
       "    </tr>\n",
       "    <tr>\n",
       "      <th>8</th>\n",
       "      <td>9</td>\n",
       "      <td>0.804</td>\n",
       "      <td>0.196</td>\n",
       "      <td>0.000</td>\n",
       "      <td>-0.6249</td>\n",
       "      <td>worst mcdonald</td>\n",
       "      <td>0</td>\n",
       "      <td>0</td>\n",
       "    </tr>\n",
       "    <tr>\n",
       "      <th>9</th>\n",
       "      <td>10</td>\n",
       "      <td>0.133</td>\n",
       "      <td>0.623</td>\n",
       "      <td>0.244</td>\n",
       "      <td>0.6415</td>\n",
       "      <td>the morning crew seems fast efficient night cr...</td>\n",
       "      <td>0</td>\n",
       "      <td>1</td>\n",
       "    </tr>\n",
       "  </tbody>\n",
       "</table>\n",
       "</div>"
      ],
      "text/plain": [
       "   Id    neg    neu    pos  compound  \\\n",
       "0   1  0.045  0.777  0.178    0.5541   \n",
       "1   2  0.096  0.904  0.000   -0.2960   \n",
       "2   3  0.000  1.000  0.000    0.0000   \n",
       "3   4  0.194  0.806  0.000   -0.7184   \n",
       "4   5  0.104  0.896  0.000   -0.2960   \n",
       "5   6  0.062  0.916  0.022   -0.5667   \n",
       "6   7  0.036  0.885  0.078    0.3818   \n",
       "7   8  0.242  0.758  0.000   -0.6901   \n",
       "8   9  0.804  0.196  0.000   -0.6249   \n",
       "9  10  0.133  0.623  0.244    0.6415   \n",
       "\n",
       "                                              review  LikeDislike  \\\n",
       "0  why look like someone spit food i normal trans...            0   \n",
       "1  made mobile order got speaker checked line mov...            0   \n",
       "2  my mc crispy chicken sandwich customer service...            1   \n",
       "3  i repeat order times drive thru still manage m...            0   \n",
       "4  i work door dash locked us wait long line reas...            0   \n",
       "5  if i could give location zero customer service...            0   \n",
       "6  came ordered large coffee wno ice they handed ...            0   \n",
       "7  went thru drive thru ordered getting home noti...            0   \n",
       "8                                     worst mcdonald            0   \n",
       "9  the morning crew seems fast efficient night cr...            0   \n",
       "\n",
       "   VadersLikeDislike  \n",
       "0                  1  \n",
       "1                  0  \n",
       "2                  0  \n",
       "3                  0  \n",
       "4                  0  \n",
       "5                  0  \n",
       "6                  1  \n",
       "7                  0  \n",
       "8                  0  \n",
       "9                  1  "
      ]
     },
     "execution_count": 34,
     "metadata": {},
     "output_type": "execute_result"
    }
   ],
   "source": [
    "# Convert sentiment to binary classification\n",
    "rating_outcome = []\n",
    "\n",
    "for value in vaders['compound']:\n",
    "    if value <= 0:\n",
    "        rating_outcome.append(0)\n",
    "    else:\n",
    "        rating_outcome.append(1)\n",
    "vaders['VadersLikeDislike'] = rating_outcome\n",
    "vaders.head(10)"
   ]
  },
  {
   "cell_type": "code",
   "execution_count": 35,
   "id": "2dfdb1eb-44e6-499b-a4df-dafed336df54",
   "metadata": {},
   "outputs": [],
   "source": [
    "# Add star (1, 0) to VADER outcome (1, 0). If =1, did not match.\n",
    "vaders['Check'] = vaders['LikeDislike'] + vaders['VadersLikeDislike']"
   ]
  },
  {
   "cell_type": "code",
   "execution_count": 36,
   "id": "32f33103-ee2b-43ce-9162-f5e09d297ff4",
   "metadata": {},
   "outputs": [
    {
     "data": {
      "text/html": [
       "<div>\n",
       "<style scoped>\n",
       "    .dataframe tbody tr th:only-of-type {\n",
       "        vertical-align: middle;\n",
       "    }\n",
       "\n",
       "    .dataframe tbody tr th {\n",
       "        vertical-align: top;\n",
       "    }\n",
       "\n",
       "    .dataframe thead th {\n",
       "        text-align: right;\n",
       "    }\n",
       "</style>\n",
       "<table border=\"1\" class=\"dataframe\">\n",
       "  <thead>\n",
       "    <tr style=\"text-align: right;\">\n",
       "      <th></th>\n",
       "      <th>Id</th>\n",
       "      <th>neg</th>\n",
       "      <th>neu</th>\n",
       "      <th>pos</th>\n",
       "      <th>compound</th>\n",
       "      <th>review</th>\n",
       "      <th>LikeDislike</th>\n",
       "      <th>VadersLikeDislike</th>\n",
       "      <th>Check</th>\n",
       "    </tr>\n",
       "  </thead>\n",
       "  <tbody>\n",
       "    <tr>\n",
       "      <th>0</th>\n",
       "      <td>1</td>\n",
       "      <td>0.045</td>\n",
       "      <td>0.777</td>\n",
       "      <td>0.178</td>\n",
       "      <td>0.5541</td>\n",
       "      <td>why look like someone spit food i normal trans...</td>\n",
       "      <td>0</td>\n",
       "      <td>1</td>\n",
       "      <td>1</td>\n",
       "    </tr>\n",
       "    <tr>\n",
       "      <th>1</th>\n",
       "      <td>2</td>\n",
       "      <td>0.096</td>\n",
       "      <td>0.904</td>\n",
       "      <td>0.000</td>\n",
       "      <td>-0.2960</td>\n",
       "      <td>made mobile order got speaker checked line mov...</td>\n",
       "      <td>0</td>\n",
       "      <td>0</td>\n",
       "      <td>0</td>\n",
       "    </tr>\n",
       "    <tr>\n",
       "      <th>2</th>\n",
       "      <td>3</td>\n",
       "      <td>0.000</td>\n",
       "      <td>1.000</td>\n",
       "      <td>0.000</td>\n",
       "      <td>0.0000</td>\n",
       "      <td>my mc crispy chicken sandwich customer service...</td>\n",
       "      <td>1</td>\n",
       "      <td>0</td>\n",
       "      <td>1</td>\n",
       "    </tr>\n",
       "    <tr>\n",
       "      <th>3</th>\n",
       "      <td>4</td>\n",
       "      <td>0.194</td>\n",
       "      <td>0.806</td>\n",
       "      <td>0.000</td>\n",
       "      <td>-0.7184</td>\n",
       "      <td>i repeat order times drive thru still manage m...</td>\n",
       "      <td>0</td>\n",
       "      <td>0</td>\n",
       "      <td>0</td>\n",
       "    </tr>\n",
       "    <tr>\n",
       "      <th>4</th>\n",
       "      <td>5</td>\n",
       "      <td>0.104</td>\n",
       "      <td>0.896</td>\n",
       "      <td>0.000</td>\n",
       "      <td>-0.2960</td>\n",
       "      <td>i work door dash locked us wait long line reas...</td>\n",
       "      <td>0</td>\n",
       "      <td>0</td>\n",
       "      <td>0</td>\n",
       "    </tr>\n",
       "  </tbody>\n",
       "</table>\n",
       "</div>"
      ],
      "text/plain": [
       "   Id    neg    neu    pos  compound  \\\n",
       "0   1  0.045  0.777  0.178    0.5541   \n",
       "1   2  0.096  0.904  0.000   -0.2960   \n",
       "2   3  0.000  1.000  0.000    0.0000   \n",
       "3   4  0.194  0.806  0.000   -0.7184   \n",
       "4   5  0.104  0.896  0.000   -0.2960   \n",
       "\n",
       "                                              review  LikeDislike  \\\n",
       "0  why look like someone spit food i normal trans...            0   \n",
       "1  made mobile order got speaker checked line mov...            0   \n",
       "2  my mc crispy chicken sandwich customer service...            1   \n",
       "3  i repeat order times drive thru still manage m...            0   \n",
       "4  i work door dash locked us wait long line reas...            0   \n",
       "\n",
       "   VadersLikeDislike  Check  \n",
       "0                  1      1  \n",
       "1                  0      0  \n",
       "2                  0      1  \n",
       "3                  0      0  \n",
       "4                  0      0  "
      ]
     },
     "execution_count": 36,
     "metadata": {},
     "output_type": "execute_result"
    }
   ],
   "source": [
    "vaders.head()"
   ]
  },
  {
   "cell_type": "code",
   "execution_count": 37,
   "id": "c979d94e-6756-416d-90f0-1c0f9fd3f785",
   "metadata": {},
   "outputs": [
    {
     "data": {
      "text/html": [
       "<div>\n",
       "<style scoped>\n",
       "    .dataframe tbody tr th:only-of-type {\n",
       "        vertical-align: middle;\n",
       "    }\n",
       "\n",
       "    .dataframe tbody tr th {\n",
       "        vertical-align: top;\n",
       "    }\n",
       "\n",
       "    .dataframe thead th {\n",
       "        text-align: right;\n",
       "    }\n",
       "</style>\n",
       "<table border=\"1\" class=\"dataframe\">\n",
       "  <thead>\n",
       "    <tr style=\"text-align: right;\">\n",
       "      <th></th>\n",
       "      <th>Id</th>\n",
       "      <th>neg</th>\n",
       "      <th>neu</th>\n",
       "      <th>pos</th>\n",
       "      <th>compound</th>\n",
       "      <th>review</th>\n",
       "      <th>LikeDislike</th>\n",
       "      <th>VadersLikeDislike</th>\n",
       "      <th>Check</th>\n",
       "      <th>Match</th>\n",
       "    </tr>\n",
       "  </thead>\n",
       "  <tbody>\n",
       "    <tr>\n",
       "      <th>0</th>\n",
       "      <td>1</td>\n",
       "      <td>0.045</td>\n",
       "      <td>0.777</td>\n",
       "      <td>0.178</td>\n",
       "      <td>0.5541</td>\n",
       "      <td>why look like someone spit food i normal trans...</td>\n",
       "      <td>0</td>\n",
       "      <td>1</td>\n",
       "      <td>1</td>\n",
       "      <td>0</td>\n",
       "    </tr>\n",
       "    <tr>\n",
       "      <th>1</th>\n",
       "      <td>2</td>\n",
       "      <td>0.096</td>\n",
       "      <td>0.904</td>\n",
       "      <td>0.000</td>\n",
       "      <td>-0.2960</td>\n",
       "      <td>made mobile order got speaker checked line mov...</td>\n",
       "      <td>0</td>\n",
       "      <td>0</td>\n",
       "      <td>0</td>\n",
       "      <td>1</td>\n",
       "    </tr>\n",
       "    <tr>\n",
       "      <th>2</th>\n",
       "      <td>3</td>\n",
       "      <td>0.000</td>\n",
       "      <td>1.000</td>\n",
       "      <td>0.000</td>\n",
       "      <td>0.0000</td>\n",
       "      <td>my mc crispy chicken sandwich customer service...</td>\n",
       "      <td>1</td>\n",
       "      <td>0</td>\n",
       "      <td>1</td>\n",
       "      <td>0</td>\n",
       "    </tr>\n",
       "    <tr>\n",
       "      <th>3</th>\n",
       "      <td>4</td>\n",
       "      <td>0.194</td>\n",
       "      <td>0.806</td>\n",
       "      <td>0.000</td>\n",
       "      <td>-0.7184</td>\n",
       "      <td>i repeat order times drive thru still manage m...</td>\n",
       "      <td>0</td>\n",
       "      <td>0</td>\n",
       "      <td>0</td>\n",
       "      <td>1</td>\n",
       "    </tr>\n",
       "    <tr>\n",
       "      <th>4</th>\n",
       "      <td>5</td>\n",
       "      <td>0.104</td>\n",
       "      <td>0.896</td>\n",
       "      <td>0.000</td>\n",
       "      <td>-0.2960</td>\n",
       "      <td>i work door dash locked us wait long line reas...</td>\n",
       "      <td>0</td>\n",
       "      <td>0</td>\n",
       "      <td>0</td>\n",
       "      <td>1</td>\n",
       "    </tr>\n",
       "    <tr>\n",
       "      <th>5</th>\n",
       "      <td>6</td>\n",
       "      <td>0.062</td>\n",
       "      <td>0.916</td>\n",
       "      <td>0.022</td>\n",
       "      <td>-0.5667</td>\n",
       "      <td>if i could give location zero customer service...</td>\n",
       "      <td>0</td>\n",
       "      <td>0</td>\n",
       "      <td>0</td>\n",
       "      <td>1</td>\n",
       "    </tr>\n",
       "    <tr>\n",
       "      <th>6</th>\n",
       "      <td>7</td>\n",
       "      <td>0.036</td>\n",
       "      <td>0.885</td>\n",
       "      <td>0.078</td>\n",
       "      <td>0.3818</td>\n",
       "      <td>came ordered large coffee wno ice they handed ...</td>\n",
       "      <td>0</td>\n",
       "      <td>1</td>\n",
       "      <td>1</td>\n",
       "      <td>0</td>\n",
       "    </tr>\n",
       "    <tr>\n",
       "      <th>7</th>\n",
       "      <td>8</td>\n",
       "      <td>0.242</td>\n",
       "      <td>0.758</td>\n",
       "      <td>0.000</td>\n",
       "      <td>-0.6901</td>\n",
       "      <td>went thru drive thru ordered getting home noti...</td>\n",
       "      <td>0</td>\n",
       "      <td>0</td>\n",
       "      <td>0</td>\n",
       "      <td>1</td>\n",
       "    </tr>\n",
       "    <tr>\n",
       "      <th>8</th>\n",
       "      <td>9</td>\n",
       "      <td>0.804</td>\n",
       "      <td>0.196</td>\n",
       "      <td>0.000</td>\n",
       "      <td>-0.6249</td>\n",
       "      <td>worst mcdonald</td>\n",
       "      <td>0</td>\n",
       "      <td>0</td>\n",
       "      <td>0</td>\n",
       "      <td>1</td>\n",
       "    </tr>\n",
       "    <tr>\n",
       "      <th>9</th>\n",
       "      <td>10</td>\n",
       "      <td>0.133</td>\n",
       "      <td>0.623</td>\n",
       "      <td>0.244</td>\n",
       "      <td>0.6415</td>\n",
       "      <td>the morning crew seems fast efficient night cr...</td>\n",
       "      <td>0</td>\n",
       "      <td>1</td>\n",
       "      <td>1</td>\n",
       "      <td>0</td>\n",
       "    </tr>\n",
       "  </tbody>\n",
       "</table>\n",
       "</div>"
      ],
      "text/plain": [
       "   Id    neg    neu    pos  compound  \\\n",
       "0   1  0.045  0.777  0.178    0.5541   \n",
       "1   2  0.096  0.904  0.000   -0.2960   \n",
       "2   3  0.000  1.000  0.000    0.0000   \n",
       "3   4  0.194  0.806  0.000   -0.7184   \n",
       "4   5  0.104  0.896  0.000   -0.2960   \n",
       "5   6  0.062  0.916  0.022   -0.5667   \n",
       "6   7  0.036  0.885  0.078    0.3818   \n",
       "7   8  0.242  0.758  0.000   -0.6901   \n",
       "8   9  0.804  0.196  0.000   -0.6249   \n",
       "9  10  0.133  0.623  0.244    0.6415   \n",
       "\n",
       "                                              review  LikeDislike  \\\n",
       "0  why look like someone spit food i normal trans...            0   \n",
       "1  made mobile order got speaker checked line mov...            0   \n",
       "2  my mc crispy chicken sandwich customer service...            1   \n",
       "3  i repeat order times drive thru still manage m...            0   \n",
       "4  i work door dash locked us wait long line reas...            0   \n",
       "5  if i could give location zero customer service...            0   \n",
       "6  came ordered large coffee wno ice they handed ...            0   \n",
       "7  went thru drive thru ordered getting home noti...            0   \n",
       "8                                     worst mcdonald            0   \n",
       "9  the morning crew seems fast efficient night cr...            0   \n",
       "\n",
       "   VadersLikeDislike  Check  Match  \n",
       "0                  1      1      0  \n",
       "1                  0      0      1  \n",
       "2                  0      1      0  \n",
       "3                  0      0      1  \n",
       "4                  0      0      1  \n",
       "5                  0      0      1  \n",
       "6                  1      1      0  \n",
       "7                  0      0      1  \n",
       "8                  0      0      1  \n",
       "9                  1      1      0  "
      ]
     },
     "execution_count": 37,
     "metadata": {},
     "output_type": "execute_result"
    }
   ],
   "source": [
    "# Check accuracy\n",
    "outcomes_match = []\n",
    "\n",
    "for value in vaders['Check']:\n",
    "    if value == 1:\n",
    "        outcomes_match.append(0)\n",
    "    else:\n",
    "        outcomes_match.append(1)\n",
    "vaders['Match'] = outcomes_match\n",
    "vaders.head(10)"
   ]
  },
  {
   "cell_type": "code",
   "execution_count": 38,
   "id": "add87270-6b3a-46bf-8419-ac03853532cb",
   "metadata": {},
   "outputs": [
    {
     "name": "stdout",
     "output_type": "stream",
     "text": [
      "<class 'pandas.core.frame.DataFrame'>\n",
      "Int64Index: 19705 entries, 0 to 19704\n",
      "Data columns (total 10 columns):\n",
      " #   Column             Non-Null Count  Dtype  \n",
      "---  ------             --------------  -----  \n",
      " 0   Id                 19705 non-null  int64  \n",
      " 1   neg                19705 non-null  float64\n",
      " 2   neu                19705 non-null  float64\n",
      " 3   pos                19705 non-null  float64\n",
      " 4   compound           19705 non-null  float64\n",
      " 5   review             19705 non-null  object \n",
      " 6   LikeDislike        19705 non-null  int64  \n",
      " 7   VadersLikeDislike  19705 non-null  int64  \n",
      " 8   Check              19705 non-null  int64  \n",
      " 9   Match              19705 non-null  int64  \n",
      "dtypes: float64(4), int64(5), object(1)\n",
      "memory usage: 1.7+ MB\n"
     ]
    }
   ],
   "source": [
    "vaders.info()"
   ]
  },
  {
   "cell_type": "code",
   "execution_count": 39,
   "id": "c5138ffc-d018-4112-9aca-f0184f41170b",
   "metadata": {},
   "outputs": [
    {
     "name": "stdout",
     "output_type": "stream",
     "text": [
      "Total Correct\n",
      "16315\n",
      "Total Total\n",
      "19705\n",
      "Vaders Accuarcy\n",
      "0.8279624460796752\n"
     ]
    }
   ],
   "source": [
    "# Accuarcy\n",
    "# Correct\n",
    "VadersCorrect = vaders['Match'].sum()\n",
    "print('Total Correct')\n",
    "print(VadersCorrect)\n",
    "# Total\n",
    "VadersTotal = vaders['Id'].max()\n",
    "print('Total Total')\n",
    "print(VadersTotal)\n",
    "# Accuracy\n",
    "print('Vaders Accuarcy')\n",
    "print(VadersCorrect/VadersTotal)\n"
   ]
  },
  {
   "cell_type": "code",
   "execution_count": null,
   "id": "6e8a3996-8392-4547-9d52-f5d8db930ec5",
   "metadata": {},
   "outputs": [],
   "source": []
  }
 ],
 "metadata": {
  "kernelspec": {
   "display_name": "Python 3 (ipykernel)",
   "language": "python",
   "name": "python3"
  },
  "language_info": {
   "codemirror_mode": {
    "name": "ipython",
    "version": 3
   },
   "file_extension": ".py",
   "mimetype": "text/x-python",
   "name": "python",
   "nbconvert_exporter": "python",
   "pygments_lexer": "ipython3",
   "version": "3.10.9"
  }
 },
 "nbformat": 4,
 "nbformat_minor": 5
}
